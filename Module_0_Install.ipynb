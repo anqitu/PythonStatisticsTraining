{
 "cells": [
  {
   "cell_type": "code",
   "execution_count": 34,
   "metadata": {},
   "outputs": [
    {
     "name": "stdout",
     "output_type": "stream",
     "text": [
      "Hello World\n"
     ]
    }
   ],
   "source": [
    "print(\"Hello World\")"
   ]
  },
  {
   "cell_type": "code",
   "execution_count": 29,
   "metadata": {},
   "outputs": [
    {
     "data": {
      "text/plain": [
       "1"
      ]
     },
     "execution_count": 29,
     "metadata": {},
     "output_type": "execute_result"
    }
   ],
   "source": [
    "pip install pandas"
   ]
  },
  {
   "cell_type": "code",
   "execution_count": 35,
   "metadata": {},
   "outputs": [
    {
     "name": "stdout",
     "output_type": "stream",
     "text": [
      "Requirement already satisfied: seaborn in /Users/anqitu/.pyenv/versions/3.6.8/lib/python3.6/site-packages (0.9.0)\r\n",
      "Requirement already satisfied: pandas>=0.15.2 in /Users/anqitu/.pyenv/versions/3.6.8/lib/python3.6/site-packages (from seaborn) (0.24.2)\r\n",
      "Requirement already satisfied: matplotlib>=1.4.3 in /Users/anqitu/.pyenv/versions/3.6.8/lib/python3.6/site-packages (from seaborn) (3.0.2)\r\n",
      "Requirement already satisfied: scipy>=0.14.0 in /Users/anqitu/.pyenv/versions/3.6.8/lib/python3.6/site-packages (from seaborn) (1.2.0)\r\n",
      "Requirement already satisfied: numpy>=1.9.3 in /Users/anqitu/.pyenv/versions/3.6.8/lib/python3.6/site-packages (from seaborn) (1.16.1)\r\n",
      "Requirement already satisfied: python-dateutil>=2.5.0 in /Users/anqitu/.pyenv/versions/3.6.8/lib/python3.6/site-packages (from pandas>=0.15.2->seaborn) (2.7.5)\r\n",
      "Requirement already satisfied: pytz>=2011k in /Users/anqitu/.pyenv/versions/3.6.8/lib/python3.6/site-packages (from pandas>=0.15.2->seaborn) (2018.9)\r\n",
      "Requirement already satisfied: kiwisolver>=1.0.1 in /Users/anqitu/.pyenv/versions/3.6.8/lib/python3.6/site-packages (from matplotlib>=1.4.3->seaborn) (1.0.1)\r\n",
      "Requirement already satisfied: pyparsing!=2.0.4,!=2.1.2,!=2.1.6,>=2.0.1 in /Users/anqitu/.pyenv/versions/3.6.8/lib/python3.6/site-packages (from matplotlib>=1.4.3->seaborn) (2.3.1)\r\n",
      "Requirement already satisfied: cycler>=0.10 in /Users/anqitu/.pyenv/versions/3.6.8/lib/python3.6/site-packages (from matplotlib>=1.4.3->seaborn) (0.10.0)\r\n",
      "Requirement already satisfied: six>=1.5 in /Users/anqitu/.pyenv/versions/3.6.8/lib/python3.6/site-packages (from python-dateutil>=2.5.0->pandas>=0.15.2->seaborn) (1.12.0)\r\n",
      "Requirement already satisfied: setuptools in /Users/anqitu/.pyenv/versions/3.6.8/lib/python3.6/site-packages (from kiwisolver>=1.0.1->matplotlib>=1.4.3->seaborn) (40.6.2)\r\n"
     ]
    }
   ],
   "source": [
    "!pip install seaborn"
   ]
  },
  {
   "cell_type": "code",
   "execution_count": null,
   "metadata": {},
   "outputs": [],
   "source": []
  },
  {
   "cell_type": "code",
   "execution_count": null,
   "metadata": {},
   "outputs": [],
   "source": []
  },
  {
   "cell_type": "code",
   "execution_count": null,
   "metadata": {},
   "outputs": [],
   "source": []
  },
  {
   "cell_type": "code",
   "execution_count": null,
   "metadata": {},
   "outputs": [],
   "source": []
  },
  {
   "cell_type": "code",
   "execution_count": null,
   "metadata": {},
   "outputs": [],
   "source": []
  },
  {
   "cell_type": "code",
   "execution_count": null,
   "metadata": {},
   "outputs": [],
   "source": []
  }
 ],
 "metadata": {
  "kernelspec": {
   "display_name": "Python 3.5",
   "language": "python",
   "name": "python3.5"
  },
  "language_info": {
   "codemirror_mode": {
    "name": "ipython",
    "version": 3
   },
   "file_extension": ".py",
   "mimetype": "text/x-python",
   "name": "python",
   "nbconvert_exporter": "python",
   "pygments_lexer": "ipython3",
   "version": "3.5.2"
  }
 },
 "nbformat": 4,
 "nbformat_minor": 2
}
